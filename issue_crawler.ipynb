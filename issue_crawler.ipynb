{
 "cells": [
  {
   "cell_type": "code",
   "execution_count": 27,
   "metadata": {},
   "outputs": [],
   "source": [
    "import sys\n",
    "import requests\n",
    "import csv\n",
    "import json\n",
    "import pandas as pd"
   ]
  },
  {
   "cell_type": "markdown",
   "metadata": {},
   "source": [
    "Issue Crawler"
   ]
  },
  {
   "cell_type": "code",
   "execution_count": 28,
   "metadata": {},
   "outputs": [],
   "source": [
    "def print_gap(num):\n",
    "    for i in range(num): \n",
    "        print('')"
   ]
  },
  {
   "cell_type": "code",
   "execution_count": 29,
   "metadata": {},
   "outputs": [],
   "source": [
    "def print_pattern():\n",
    "    print('-' * 10)"
   ]
  },
  {
   "cell_type": "code",
   "execution_count": 30,
   "metadata": {},
   "outputs": [],
   "source": [
    "def gen_api_url(filename):\n",
    "    api_url = \"https://api.github.com/repos/\"\n",
    "    with open(filename, \"r\") as file:\n",
    "        file_data = json.load(file)      \n",
    "\n",
    "    try:\n",
    "        repo = file_data[\"repo_link\"]\n",
    "    except KeyError:\n",
    "        print_gap(1)\n",
    "        # print(\"Repo not stored.\")\n",
    "        repo = input(\"Enter Repo link: \")\n",
    "        print_gap(1)\n",
    "\n",
    "        # TODO: Add ability to store repo link\n",
    "        # input(\"Do you want me to store repo? (Y/N): \")\n",
    "\n",
    "    if len(repo.split('/')[-2:]) == 1:\n",
    "        print('Invalid Url')\n",
    "        return 'invalid'\n",
    "    else:\n",
    "        api_url += '/'.join(repo.split('/')[-2:])\n",
    "        return api_url\n"
   ]
  },
  {
   "cell_type": "code",
   "execution_count": 31,
   "metadata": {},
   "outputs": [],
   "source": [
    "## TODO: Add params. Only supports access_token now\n",
    "def add_params_to_url(api_url, filename):\n",
    "    with open(filename, \"r\") as file:\n",
    "        file_data = json.load(file)   \n",
    "\n",
    "    # try:\n",
    "    #     access_token = file_data[\"access_token\"]\n",
    "    # except KeyError:\n",
    "    #     print_pattern()\n",
    "    #     # print(\"Access token not stored.\")\n",
    "    #     print(\"Access token required for private github repos, if public press enter(return), enter token otherwise.\")\n",
    "    #     print(\"Help on creating token - https://help.github.com/articles/creating-an-access-token-for-command-line-use/\")\n",
    "    #     print_pattern()\n",
    "    #     print_gap(1)\n",
    "    #     access_token = input(\"Enter Access Token: \")\n",
    "    #     print_gap(1)\n",
    "\n",
    "        # TODO: Add ability to store access_token\n",
    "        # input(\"Do you want me to store access token? (Y/N): \")\n",
    "\n",
    "\n",
    "    api_url += '/issues?state=closed'\n",
    "\n",
    "    return api_url"
   ]
  },
  {
   "cell_type": "markdown",
   "metadata": {},
   "source": [
    "Main"
   ]
  },
  {
   "cell_type": "code",
   "execution_count": 32,
   "metadata": {},
   "outputs": [
    {
     "name": "stdout",
     "output_type": "stream",
     "text": [
      "https://api.github.com/repos/umami-software/umami/issues?state=closed\n"
     ]
    }
   ],
   "source": [
    "api_url = add_params_to_url(gen_api_url('repo_link.txt'), 'repo_link.txt')\n",
    "print(api_url)\n",
    "req = requests.get(api_url)\n",
    "    # response = requests.get(api_url)\n",
    "    # for issue in response.json():\n",
    "        \n",
    "    #     labels = issue['labels']\n",
    "    #     for label in labels:\n",
    "    #         print (label)\n",
    "data = req.json()\n",
    "    \n",
    "# output = open('output.txt', 'w+')\n",
    "# keys = data[0].keys()\n",
    "# output.write(\" \".join(keys))\n",
    "\n",
    "\n",
    "\n",
    "fields = ['number', 'title', 'html_url']\n",
    "\n",
    "other = ['assignee', 'creater']\n",
    "\n",
    "with open(\"crawled_issue/data.csv\", \"w\") as file:\n",
    "    csv_file = csv.writer(file)\n",
    "    cols = fields + other\n",
    "    csv_file.writerow(cols)\n",
    "    for item in data:\n",
    "            row = [item[i] for i in fields]\n",
    "            try:\n",
    "                row += [item['assignee']['login']]\n",
    "            except:\n",
    "\n",
    "\n",
    "                row += [' ']\n",
    "            row += [item['user']['login']]\n",
    "            csv_file.writerow(row)"
   ]
  },
  {
   "cell_type": "code",
   "execution_count": 33,
   "metadata": {},
   "outputs": [],
   "source": [
    "\n",
    "query_parameters = {\"downloadformat\": \"csv\"}\n",
    "response = requests.get(api_url, params=query_parameters)\n",
    "with open(\"crawled_issue/report.json\", mode=\"wb\") as file:\n",
    "    file.write(response.content)\n"
   ]
  },
  {
   "cell_type": "markdown",
   "metadata": {},
   "source": [
    "JSON Parser"
   ]
  },
  {
   "cell_type": "code",
   "execution_count": 34,
   "metadata": {},
   "outputs": [],
   "source": [
    "#read report.json file and return the json object\n",
    "def read_report_json():\n",
    "    with open('crawled_issue/report.json') as json_file:\n",
    "        data = json.load(json_file)\n",
    "        return data\n",
    "    \n",
    "data = read_report_json()\n",
    "\n"
   ]
  },
  {
   "cell_type": "code",
   "execution_count": 35,
   "metadata": {},
   "outputs": [
    {
     "name": "stdout",
     "output_type": "stream",
     "text": [
      "0\n",
      "1\n",
      "2\n",
      "3\n",
      "4\n",
      "5\n",
      "6\n",
      "7\n",
      "8\n",
      "9\n",
      "10\n",
      "11\n",
      "12\n",
      "13\n",
      "14\n",
      "15\n",
      "16\n",
      "17\n",
      "18\n",
      "19\n",
      "20\n",
      "21\n",
      "22\n",
      "23\n",
      "24\n",
      "25\n",
      "26\n"
     ]
    }
   ],
   "source": [
    "# Save to CSV\n",
    "with open('crawled_issue/output.csv', 'w', newline='') as csvfile:\n",
    "    fieldnames = ['Issue ID','Issue Body']\n",
    "    writer = csv.DictWriter(csvfile, fieldnames=fieldnames)\n",
    "    cnt=0\n",
    "    writer.writeheader()\n",
    "    for item in data:\n",
    "        if item['body'] is not None:\n",
    "            writer.writerow({'Issue ID':item['id'],'Issue Body': item['body']})\n",
    "            print(cnt)\n",
    "            cnt+=1\n",
    "    \n",
    "#sort the csv file by Issue ID\n",
    "df = pd.read_csv('crawled_issue/output.csv')\n",
    "df.sort_values(by=['Issue ID'], inplace=True)\n",
    "df.to_csv('crawled_issue/output.csv', index=False)"
   ]
  }
 ],
 "metadata": {
  "kernelspec": {
   "display_name": "Python 3",
   "language": "python",
   "name": "python3"
  },
  "language_info": {
   "codemirror_mode": {
    "name": "ipython",
    "version": 3
   },
   "file_extension": ".py",
   "mimetype": "text/x-python",
   "name": "python",
   "nbconvert_exporter": "python",
   "pygments_lexer": "ipython3",
   "version": "3.9.18"
  }
 },
 "nbformat": 4,
 "nbformat_minor": 2
}
