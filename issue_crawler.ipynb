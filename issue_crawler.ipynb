{
 "cells": [
  {
   "cell_type": "code",
   "execution_count": 1,
   "metadata": {},
   "outputs": [],
   "source": [
    "import sys\n",
    "import requests\n",
    "import csv\n",
    "import json"
   ]
  },
  {
   "cell_type": "code",
   "execution_count": 2,
   "metadata": {},
   "outputs": [],
   "source": [
    "def print_gap(num):\n",
    "    for i in range(num): \n",
    "        print('')"
   ]
  },
  {
   "cell_type": "code",
   "execution_count": 3,
   "metadata": {},
   "outputs": [],
   "source": [
    "def print_pattern():\n",
    "    print('-' * 10)"
   ]
  },
  {
   "cell_type": "code",
   "execution_count": 6,
   "metadata": {},
   "outputs": [],
   "source": [
    "def gen_api_url(filename):\n",
    "    api_url = \"https://api.github.com/repos/\"\n",
    "    with open(filename, \"r\") as file:\n",
    "        file_data = json.load(file)      \n",
    "\n",
    "    try:\n",
    "        repo = file_data[\"repo_link\"]\n",
    "    except KeyError:\n",
    "        print_gap(1)\n",
    "        # print(\"Repo not stored.\")\n",
    "        repo = input(\"Enter Repo link: \")\n",
    "        print_gap(1)\n",
    "\n",
    "        # TODO: Add ability to store repo link\n",
    "        # input(\"Do you want me to store repo? (Y/N): \")\n",
    "\n",
    "    if len(repo.split('/')[-2:]) == 1:\n",
    "        print('Invalid Url')\n",
    "        return 'invalid'\n",
    "    else:\n",
    "        api_url += '/'.join(repo.split('/')[-2:])\n",
    "        return api_url\n"
   ]
  },
  {
   "cell_type": "code",
   "execution_count": 7,
   "metadata": {},
   "outputs": [],
   "source": [
    "## TODO: Add params. Only supports access_token now\n",
    "def add_params_to_url(api_url, filename):\n",
    "    with open(filename, \"r\") as file:\n",
    "        file_data = json.load(file)   \n",
    "\n",
    "    # try:\n",
    "    #     access_token = file_data[\"access_token\"]\n",
    "    # except KeyError:\n",
    "    #     print_pattern()\n",
    "    #     # print(\"Access token not stored.\")\n",
    "    #     print(\"Access token required for private github repos, if public press enter(return), enter token otherwise.\")\n",
    "    #     print(\"Help on creating token - https://help.github.com/articles/creating-an-access-token-for-command-line-use/\")\n",
    "    #     print_pattern()\n",
    "    #     print_gap(1)\n",
    "    #     access_token = input(\"Enter Access Token: \")\n",
    "    #     print_gap(1)\n",
    "\n",
    "        # TODO: Add ability to store access_token\n",
    "        # input(\"Do you want me to store access token? (Y/N): \")\n",
    "\n",
    "\n",
    "    api_url += '/issues?state=closed'\n",
    "\n",
    "    return api_url"
   ]
  },
  {
   "cell_type": "markdown",
   "metadata": {},
   "source": [
    "Main"
   ]
  },
  {
   "cell_type": "code",
   "execution_count": 8,
   "metadata": {},
   "outputs": [
    {
     "name": "stdout",
     "output_type": "stream",
     "text": [
      "https://api.github.com/repos/Mahim1997/wQFM-2020/issues?state=closed\n"
     ]
    }
   ],
   "source": [
    "api_url = add_params_to_url(gen_api_url('data.txt'), 'data.txt')\n",
    "print(api_url)\n",
    "req = requests.get(api_url)\n",
    "    # response = requests.get(api_url)\n",
    "    # for issue in response.json():\n",
    "        \n",
    "    #     labels = issue['labels']\n",
    "    #     for label in labels:\n",
    "    #         print (label)\n",
    "data = req.json()\n",
    "    \n",
    "output = open('output.txt', 'w+')\n",
    "keys = data[0].keys()\n",
    "output.write(\" \".join(keys))\n",
    "\n",
    "\n",
    "\n",
    "fields = ['number', 'title', 'html_url']\n",
    "\n",
    "other = ['assignee', 'creater']\n",
    "\n",
    "with open(\"data.csv\", \"w\") as file:\n",
    "    csv_file = csv.writer(file)\n",
    "    cols = fields + other\n",
    "    csv_file.writerow(cols)\n",
    "    for item in data:\n",
    "            row = [item[i] for i in fields]\n",
    "            try:\n",
    "                row += [item['assignee']['login']]\n",
    "            except:\n",
    "\n",
    "\n",
    "                row += [' ']\n",
    "            row += [item['user']['login']]\n",
    "            csv_file.writerow(row)"
   ]
  }
 ],
 "metadata": {
  "kernelspec": {
   "display_name": "Python 3",
   "language": "python",
   "name": "python3"
  },
  "language_info": {
   "codemirror_mode": {
    "name": "ipython",
    "version": 3
   },
   "file_extension": ".py",
   "mimetype": "text/x-python",
   "name": "python",
   "nbconvert_exporter": "python",
   "pygments_lexer": "ipython3",
   "version": "3.10.4"
  }
 },
 "nbformat": 4,
 "nbformat_minor": 2
}
