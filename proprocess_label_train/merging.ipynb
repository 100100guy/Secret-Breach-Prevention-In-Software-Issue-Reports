{
 "cells": [
  {
   "cell_type": "code",
   "execution_count": 6,
   "metadata": {},
   "outputs": [],
   "source": [
    "import os\n",
    "import pandas as pd"
   ]
  },
  {
   "cell_type": "code",
   "execution_count": 13,
   "metadata": {},
   "outputs": [
    {
     "name": "stdout",
     "output_type": "stream",
     "text": [
      "(20272, 5)\n",
      "(5000, 5)\n",
      "(25272, 5)\n",
      "<bound method NDFrame.head of        Index    Issue_id                                   Candidate_String  \\\n",
      "0          1  1185064566  PreferredAuthentications=gssapi-with-mic,gssap...   \n",
      "1          2   952668712           e7f787572e805c413115265e5873fb2425e2f41b   \n",
      "2          3  1363669128  showTimerProgress:false,smoothCaret:true,quick...   \n",
      "3          4  1359916117                             genesys@VM-4-14-centos   \n",
      "4          5  1099503365                                 build(BuildContext   \n",
      "...      ...         ...                                                ...   \n",
      "25267   4995  1146116944           223b2593b09e3c2b453d8c02f7f402d590316124   \n",
      "25268   4996  1147872627                                     ClusterOperate   \n",
      "25269   4997  1031564283           c9c677a9cbcb200ea0a39c7346a33d02d356b555   \n",
      "25270   4998   137383876           081FBC9A4D852329BE6C9A5411DCD1B96543EC03   \n",
      "25271   4999  1171550581                            keops_binder[key].reset   \n",
      "\n",
      "       is_secret_human_label Actual_Type  \n",
      "0                          0         NaN  \n",
      "1                          0         NaN  \n",
      "2                          0         NaN  \n",
      "3                          0         NaN  \n",
      "4                          0         NaN  \n",
      "...                      ...         ...  \n",
      "25267                      0         NaN  \n",
      "25268                      0         NaN  \n",
      "25269                      0         NaN  \n",
      "25270                      0         NaN  \n",
      "25271                      0         NaN  \n",
      "\n",
      "[25272 rows x 5 columns]>\n"
     ]
    }
   ],
   "source": [
    "\n",
    "df1 = pd.read_csv(\"Manual-labelled-data-20K.csv\")\n",
    "df2 = pd.read_csv(\"8Jan-5000-potential-breaches-manually-labelled.csv\")\n",
    "print(df1.shape)\n",
    "print(df2.shape)\n",
    "concatanated_df = pd.concat([df1, df2], ignore_index=True)\n",
    "print(concatanated_df.shape)\n",
    "print(concatanated_df.head)\n",
    "concatanated_df.to_csv('Manual-labelled-data-25k.csv', sep=',', index=False)\n"
   ]
  }
 ],
 "metadata": {
  "kernelspec": {
   "display_name": "Python 3",
   "language": "python",
   "name": "python3"
  },
  "language_info": {
   "codemirror_mode": {
    "name": "ipython",
    "version": 3
   },
   "file_extension": ".py",
   "mimetype": "text/x-python",
   "name": "python",
   "nbconvert_exporter": "python",
   "pygments_lexer": "ipython3",
   "version": "3.9.18"
  }
 },
 "nbformat": 4,
 "nbformat_minor": 2
}
