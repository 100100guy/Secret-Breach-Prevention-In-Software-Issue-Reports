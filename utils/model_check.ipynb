{
 "cells": [
  {
   "cell_type": "code",
   "execution_count": 2,
   "metadata": {},
   "outputs": [],
   "source": [
    "import os\n",
    "import pandas as pd"
   ]
  },
  {
   "cell_type": "code",
   "execution_count": 3,
   "metadata": {},
   "outputs": [
    {
     "name": "stdout",
     "output_type": "stream",
     "text": [
      "(312, 6)\n",
      "(187, 6)\n"
     ]
    }
   ],
   "source": [
    "df1 = pd.read_csv(\"../results/flags_concatanated_adamW_200.csv\")\n",
    "df2 = pd.read_csv(\"../results/flags_concatanated_rmsprop_100.csv\")\n",
    "df1['model'] = \"adamW\"\n",
    "df2['model'] = \"rmprop\"\n",
    "print(df1.shape)\n",
    "print(df2.shape)\n"
   ]
  },
  {
   "cell_type": "code",
   "execution_count": 7,
   "metadata": {},
   "outputs": [
    {
     "name": "stdout",
     "output_type": "stream",
     "text": [
      "(91, 6)\n"
     ]
    }
   ],
   "source": [
    "matched_df=None\n",
    "for i in range(df1.shape[0]):\n",
    "    if any(df2['Issue ID'].isin([df1[\"Issue ID\"][i]])):  # Check if any value in 'Age' column exists in the list\n",
    "        if matched_df is None:\n",
    "            matched_df = pd.DataFrame(df1.iloc[i, :]).transpose()\n",
    "        else:\n",
    "            matched_df = pd.concat([matched_df, pd.DataFrame(df1.iloc[i, :]).transpose()], ignore_index=True)\n",
    "print(matched_df.shape)"
   ]
  },
  {
   "cell_type": "code",
   "execution_count": 16,
   "metadata": {},
   "outputs": [
    {
     "name": "stdout",
     "output_type": "stream",
     "text": [
      "(221, 6)\n"
     ]
    }
   ],
   "source": [
    "unmatched_df_adam=None\n",
    "for i in range(df1.shape[0]):\n",
    "    if not (any(matched_df['Issue ID'].isin([df1[\"Issue ID\"][i]]))):  \n",
    "        if unmatched_df_adam is None:\n",
    "            unmatched_df_adam = pd.DataFrame(df1.iloc[i, :]).transpose()\n",
    "        else:\n",
    "            unmatched_df_adam = pd.concat([unmatched_df_adam, pd.DataFrame(df1.iloc[i, :]).transpose()], ignore_index=True)\n",
    "print(unmatched_df_adam.shape)"
   ]
  },
  {
   "cell_type": "code",
   "execution_count": 17,
   "metadata": {},
   "outputs": [
    {
     "name": "stdout",
     "output_type": "stream",
     "text": [
      "(96, 6)\n"
     ]
    }
   ],
   "source": [
    "unmatched_df_rms=None\n",
    "for i in range(df2.shape[0]):\n",
    "    if not (any(matched_df['Issue ID'].isin([df2[\"Issue ID\"][i]]))):  \n",
    "        if unmatched_df_rms is None:\n",
    "            unmatched_df_rms = pd.DataFrame(df2.iloc[i, :]).transpose()\n",
    "        else:\n",
    "            unmatched_df_rms = pd.concat([unmatched_df_rms, pd.DataFrame(df2.iloc[i, :]).transpose()], ignore_index=True)\n",
    "print(unmatched_df_rms.shape)"
   ]
  },
  {
   "cell_type": "code",
   "execution_count": 20,
   "metadata": {},
   "outputs": [],
   "source": [
    "matched_df.to_csv(\"../results/both_opt.csv\")\n",
    "unmatched_df_adam.to_csv(\"../results/only_adam.csv\")\n",
    "unmatched_df_rms.to_csv(\"../results/only_rms.csv\")"
   ]
  },
  {
   "cell_type": "code",
   "execution_count": 3,
   "metadata": {},
   "outputs": [
    {
     "name": "stdout",
     "output_type": "stream",
     "text": [
      "(402, 8)\n"
     ]
    }
   ],
   "source": [
    "df1 = pd.read_csv(\"../results/real-life-temp-1.csv\")\n",
    "df2 = pd.read_csv(\"../results/real-life-temp-2.csv\")\n",
    "df3 = pd.read_csv(\"../results/real-life-temp-3.csv\")\n",
    "df4 = pd.read_csv(\"../results/real-life-temp-4.csv\")\n",
    "concatanated_df = pd.concat([df1, df2 , df3 , df4 ], ignore_index=True)\n",
    "print(concatanated_df.shape)\n",
    "#print(concatanated_df.head)\n",
    "concatanated_df.to_csv('../results/flags_concatanated_real-life.csv', sep=',', index=False)\n"
   ]
  },
  {
   "cell_type": "code",
   "execution_count": 7,
   "metadata": {},
   "outputs": [
    {
     "name": "stdout",
     "output_type": "stream",
     "text": [
      "(312, 5)\n",
      "(312, 8)\n",
      "(624, 8)\n"
     ]
    }
   ],
   "source": [
    "unlabeled_df = pd.read_csv(\"../results/flags_concatanated_adamW_200.csv\")\n",
    "print(unlabeled_df.shape)\n",
    "labeled_df = concatanated_df.head(312)\n",
    "print(labeled_df.shape)\n",
    "merged_df = pd.concat([unlabeled_df,labeled_df], ignore_index=True)\n",
    "print(merged_df.shape)"
   ]
  }
 ],
 "metadata": {
  "kernelspec": {
   "display_name": "Python 3",
   "language": "python",
   "name": "python3"
  },
  "language_info": {
   "codemirror_mode": {
    "name": "ipython",
    "version": 3
   },
   "file_extension": ".py",
   "mimetype": "text/x-python",
   "name": "python",
   "nbconvert_exporter": "python",
   "pygments_lexer": "ipython3",
   "version": "3.9.18"
  }
 },
 "nbformat": 4,
 "nbformat_minor": 2
}
