{
 "cells": [
  {
   "cell_type": "code",
   "execution_count": 1,
   "metadata": {},
   "outputs": [],
   "source": [
    "import os\n",
    "import pandas as pd"
   ]
  },
  {
   "cell_type": "code",
   "execution_count": 2,
   "metadata": {},
   "outputs": [
    {
     "name": "stdout",
     "output_type": "stream",
     "text": [
      "(3, 5)\n",
      "(2, 5)\n",
      "(8, 5)\n",
      "(64, 5)\n",
      "(0, 1)\n",
      "(6, 5)\n",
      "(4, 5)\n",
      "(3, 5)\n",
      "(0, 1)\n",
      "(5, 5)\n",
      "(0, 1)\n",
      "(95, 5)\n"
     ]
    }
   ],
   "source": [
    "\n",
    "df1 = pd.read_csv(\"../results/flagged_reallifeadamW125_1.csv\")\n",
    "print(df1.shape)\n",
    "df2 = pd.read_csv(\"../results/flagged_reallifeadamW125_2.csv\")\n",
    "print(df2.shape)\n",
    "df3 = pd.read_csv(\"../results/flagged_reallifeadamW125_3.csv\")\n",
    "print(df3.shape)\n",
    "df4 = pd.read_csv(\"../results/flagged_reallifeadamW125_4.csv\")\n",
    "print(df4.shape)\n",
    "df5 = pd.read_csv(\"../results/flagged_reallifeadamW125_5.csv\")\n",
    "print(df5.shape)\n",
    "df6 = pd.read_csv(\"../results/flagged_reallifeadamW125_6.csv\")\n",
    "print(df6.shape)\n",
    "df7 = pd.read_csv(\"../results/flagged_reallifeadamW125_7.csv\")\n",
    "print(df7.shape)\n",
    "df8 = pd.read_csv(\"../results/flagged_reallifeadamW125_8.csv\")\n",
    "print(df8.shape)\n",
    "df9 = pd.read_csv(\"../results/flagged_reallifeadamW125_9.csv\")\n",
    "print(df9.shape)\n",
    "df10 = pd.read_csv(\"../results/flagged_reallifeadamW125_10.csv\")\n",
    "print(df10.shape)\n",
    "df11 = pd.read_csv(\"../results/flagged_reallifeadamW125_11.csv\")\n",
    "print(df11.shape)\n",
    "concatanated_df = pd.concat([df1, df2 , df3 , df4 , df5 , df6 , df7 , df8 , df9 , df10 , df11 ], ignore_index=True)\n",
    "print(concatanated_df.shape)\n",
    "#print(concatanated_df.head)\n",
    "concatanated_df.to_csv('../results/flags_concatanated_adamW_125.csv', sep=',', index=False)\n"
   ]
  },
  {
   "cell_type": "code",
   "execution_count": 5,
   "metadata": {},
   "outputs": [
    {
     "name": "stdout",
     "output_type": "stream",
     "text": [
      "(312, 6)\n",
      "(187, 6)\n",
      "(499, 6)\n",
      "Index(['Unnamed: 0', 'Issue ID', 'Issue Body', 'Candidate String', 'Repolink',\n",
      "       'model'],\n",
      "      dtype='object')\n",
      "(402, 6)\n"
     ]
    },
    {
     "ename": "",
     "evalue": "",
     "output_type": "error",
     "traceback": [
      "\u001b[1;31mThe Kernel crashed while executing code in the current cell or a previous cell. \n",
      "\u001b[1;31mPlease review the code in the cell(s) to identify a possible cause of the failure. \n",
      "\u001b[1;31mClick <a href='https://aka.ms/vscodeJupyterKernelCrash'>here</a> for more info. \n",
      "\u001b[1;31mView Jupyter <a href='command:jupyter.viewOutput'>log</a> for further details."
     ]
    }
   ],
   "source": [
    "# df1 = pd.read_csv(\"../results/flags_concatanated_adamW_200.csv\")\n",
    "# df2 = pd.read_csv(\"../results/flags_concatanated_rmsprop_100.csv\")\n",
    "# df1['model'] = \"adamW\"\n",
    "# df2['model'] = \"rmprop\"\n",
    "# print(df1.shape)\n",
    "# print(df2.shape)\n",
    "# concatanated_df = pd.concat([df1, df2], ignore_index=True)\n",
    "# print(concatanated_df.shape)\n",
    "# print(concatanated_df.columns)\n",
    "# concatanated_df = concatanated_df.drop_duplicates(subset=[\"Issue ID\",\"Issue Body\",\"Candidate String\"], keep='first')\n",
    "# print(concatanated_df.shape)\n",
    "# #print(concatanated_df.head())\n",
    "# concatanated_df.to_csv('../results/flags_concatanated_merged_models.csv', sep=',', index=False)"
   ]
  },
  {
   "cell_type": "code",
   "execution_count": 4,
   "metadata": {},
   "outputs": [
    {
     "name": "stdout",
     "output_type": "stream",
     "text": [
      "(25091, 5)\n",
      "(2978, 5)\n",
      "(20789, 5)\n",
      "(119966, 5)\n",
      "(361, 5)\n",
      "(10128, 5)\n",
      "(10011, 5)\n",
      "(31538, 5)\n",
      "(1875, 5)\n",
      "(6909, 5)\n",
      "(34, 5)\n",
      "(229680, 5)\n"
     ]
    }
   ],
   "source": [
    "\n",
    "df1 = pd.read_csv(\"../crawled_issue/data_azure_api_guidelines.csv\")\n",
    "df1[\"repo\"]=\"Azure_API\"\n",
    "print(df1.shape)\n",
    "df2 = pd.read_csv(\"../crawled_issue/data_google-api-nodejs-client.csv\")\n",
    "df2[\"repo\"] = \"Google_API\"\n",
    "print(df2.shape)\n",
    "df3 = pd.read_csv(\"../crawled_issue/data_keycloak.csv\")\n",
    "df3[\"repo\"] = \"Keycloak\"\n",
    "print(df3.shape)\n",
    "df4 = pd.read_csv(\"../crawled_issue/data_kubernetes.csv\")\n",
    "df4[\"repo\"] = \"Kubernetes\"\n",
    "print(df4.shape)\n",
    "df5 = pd.read_csv(\"../crawled_issue/data_mateo.csv\")\n",
    "df5[\"repo\"] = \"Mateo\"\n",
    "print(df5.shape)\n",
    "df6 = pd.read_csv(\"../crawled_issue/data_redis.csv\")\n",
    "df6[\"repo\"] = \"Redis\"\n",
    "print(df6.shape)\n",
    "df7 = pd.read_csv(\"../crawled_issue/data_supabase.csv\")\n",
    "df7[\"repo\"] = \"Supabase\"\n",
    "print(df7.shape)\n",
    "df8 = pd.read_csv(\"../crawled_issue/data_terraform-provider-aws.csv\")\n",
    "df8[\"repo\"] = \"Terraform-AWS\"\n",
    "print(df8.shape)\n",
    "df9 = pd.read_csv(\"../crawled_issue/data_umami.csv\")\n",
    "df9[\"repo\"] = \"Umami\"\n",
    "print(df9.shape)\n",
    "df10 = pd.read_csv(\"../crawled_issue/data_vercel.csv\")\n",
    "df10[\"repo\"] = \"Vercel\"\n",
    "print(df10.shape)\n",
    "df11 = pd.read_csv(\"../crawled_issue/data_weather.csv\")\n",
    "df11[\"repo\"] = \"Weather\"\n",
    "print(df11.shape)\n",
    "concatanated_df = pd.concat([df1, df2 , df3 , df4 , df5 , df6 , df7 , df8 , df9 , df10 , df11 ], ignore_index=True)\n",
    "print(concatanated_df.shape)\n",
    "#print(concatanated_df.head)\n",
    "concatanated_df.to_csv('../crawled_issue/Merged_Real_Life_Issues.csv', sep=',', index=False)"
   ]
  },
  {
   "cell_type": "code",
   "execution_count": null,
   "metadata": {},
   "outputs": [],
   "source": []
  }
 ],
 "metadata": {
  "kernelspec": {
   "display_name": "Python 3",
   "language": "python",
   "name": "python3"
  },
  "language_info": {
   "codemirror_mode": {
    "name": "ipython",
    "version": 3
   },
   "file_extension": ".py",
   "mimetype": "text/x-python",
   "name": "python",
   "nbconvert_exporter": "python",
   "pygments_lexer": "ipython3",
   "version": "3.9.18"
  }
 },
 "nbformat": 4,
 "nbformat_minor": 2
}
