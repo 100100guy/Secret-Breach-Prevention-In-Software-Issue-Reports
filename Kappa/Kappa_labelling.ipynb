{
 "cells": [
  {
   "cell_type": "code",
   "execution_count": null,
   "metadata": {},
   "outputs": [],
   "source": [
    "import numpy as np\n",
    "import pandas as pd\n",
    "\n",
    "import re\n",
    "concatenated_df = pd.read_csv(\"../dataset/nlbse-2023-issue-report.csv\")\n",
    "concatenated_df.shape\n",
    "df = concatenated_df[concatenated_df['labels']=='bug']\n",
    "print(df.shape)\n",
    "df_unique = df.drop_duplicates(subset='id', keep='first')\n",
    "print(df_unique.shape)\n",
    "df = df_unique\n",
    "df[\"id\"] = df[\"id\"].astype(str)"
   ]
  },
  {
   "cell_type": "code",
   "execution_count": null,
   "metadata": {},
   "outputs": [],
   "source": [
    "\n",
    "sampled_df= pd.read_csv(\"../Kappa/sadif_df.csv\")\n",
    "#print(sampled_df.head())\n",
    "columns_to_remove = ['Unnamed: 0']\n",
    "\n",
    "sampled_df.drop(columns=columns_to_remove, inplace=True)\n",
    "sampled_df = sampled_df.drop_duplicates(subset=[\"Issue_id\", \"candidate_string\"], keep='first')\n",
    "sampled_df['Kappa_label'] = 0\n",
    "sampled_df.head()\n",
    "sampled_df.shape"
   ]
  },
  {
   "cell_type": "code",
   "execution_count": null,
   "metadata": {},
   "outputs": [],
   "source": [
    "## 100 potential breaches are labelled in one iteration\n",
    "idx = 0\n",
    "start = idx*10\n",
    "end = (idx+1)*10\n",
    "print(start,end)\n",
    "  \n",
    "for iter in sampled_df.index[start:end]:\n",
    "    print(iter+1)\n",
    "    sampled_df_id = str(sampled_df[\"Issue_id\"][iter])\n",
    "    print(sampled_df[\"candidate_string\"][iter])\n",
    "    print(\"-----------------------------------------\")\n",
    "    \n",
    "    df[df[\"id\"]==sampled_df_id][\"body\"].to_csv(\"../Kappa/demo.csv\")\n",
    "    manual_label = input(str(iter)+\".Label for \\n\"+\"Candidate String:  \"+sampled_df[\"candidate_string\"][iter]+\"  Pre-Label: \"+str(sampled_df[\"label\"][iter])+\":\\n\")\n",
    "    sampled_df['Kappa_label'][iter] = manual_label\n",
    "date = \"12jan\"\n",
    "your_name=\"sdf\"\n",
    "\n",
    "sampled_df.iloc[start:end].to_csv('kappa manual labelled secrets - '+date+'/sampled-issue-report-'+your_name+'-labelled-'+str(idx+1)+'.csv')\n",
    "\n"
   ]
  },
  {
   "cell_type": "code",
   "execution_count": null,
   "metadata": {},
   "outputs": [],
   "source": [
    "concatenated_df = pd.DataFrame()\n",
    "\n",
    "# Loop through the ranges and concatenate the DataFrames\n",
    "for var in range(1, 3):\n",
    "    temp = pd.read_csv('kappa manual labelled secrets - '+date+'/sampled-issue-report-'+your_name+'-labelled-'+str(var)+'.csv')\n",
    "    concatenated_df = pd.concat([concatenated_df, temp], ignore_index=True)\n",
    "columns_to_remove = ['Unnamed: 0']\n",
    "concatenated_df.drop(columns=columns_to_remove, inplace=True)\n",
    "concatenated_df['Kappa_label'].fillna(0, inplace=True)\n",
    "concatenated_df[\"Kappa_label\"] = concatenated_df[\"Kappa_label\"].astype(int)\n",
    "print(concatenated_df.shape)\n",
    "\n",
    "concatenated_df.to_csv(date+'-Kappa-potential-breaches-manually-labelled.csv')"
   ]
  }
 ],
 "metadata": {
  "kernelspec": {
   "display_name": "Python 3.10.5 64-bit",
   "language": "python",
   "name": "python3"
  },
  "language_info": {
   "codemirror_mode": {
    "name": "ipython",
    "version": 3
   },
   "file_extension": ".py",
   "mimetype": "text/x-python",
   "name": "python",
   "nbconvert_exporter": "python",
   "pygments_lexer": "ipython3",
   "version": "3.9.18"
  },
  "orig_nbformat": 4,
  "vscode": {
   "interpreter": {
    "hash": "aee8b7b246df8f9039afb4144a1f6fd8d2ca17a180786b69acc140d282b71a49"
   }
  }
 },
 "nbformat": 4,
 "nbformat_minor": 2
}
