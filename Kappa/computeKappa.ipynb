{
 "cells": [
  {
   "cell_type": "code",
   "execution_count": 1,
   "metadata": {},
   "outputs": [
    {
     "name": "stderr",
     "output_type": "stream",
     "text": [
      "C:\\Users\\nafiu\\AppData\\Local\\Temp\\ipykernel_1672\\610384794.py:2: DeprecationWarning: \n",
      "Pyarrow will become a required dependency of pandas in the next major release of pandas (pandas 3.0),\n",
      "(to allow more performant data types, such as the Arrow string type, and better interoperability with other libraries)\n",
      "but was not found to be installed on your system.\n",
      "If this would cause problems for you,\n",
      "please provide us feedback at https://github.com/pandas-dev/pandas/issues/54466\n",
      "        \n",
      "  import pandas as pd\n"
     ]
    }
   ],
   "source": [
    "import os\n",
    "import pandas as pd\n",
    "import re\n",
    "import numpy as np"
   ]
  },
  {
   "cell_type": "code",
   "execution_count": 2,
   "metadata": {},
   "outputs": [
    {
     "name": "stdout",
     "output_type": "stream",
     "text": [
      "Both positive:  184\n",
      "Both negative:  187\n",
      "Positive 1, negative 2:  16\n",
      "Negative 1, positive 2:  13\n",
      "Kappa:  0.855\n"
     ]
    }
   ],
   "source": [
    "df2 = pd.read_csv(\"sadif-Kappa-potential-breaches-manually-labelled.csv\")\n",
    "df1 = pd.read_csv(\"sadif_df.csv\")\n",
    "p1p2 = 0\n",
    "p1n2 = 0\n",
    "n1p2 = 0\n",
    "n1n2 = 0\n",
    "\n",
    "#df1 and df2 both have same rows, we compare their label column\n",
    "for i in range(0, len(df1)):\n",
    "    if df2.iloc[i]['Kappa_label'] == 1 and df1.iloc[i]['label'] == 1:\n",
    "        p1p2 += 1\n",
    "    elif df2.iloc[i]['Kappa_label'] == 1 and df1.iloc[i]['label'] == 0:\n",
    "        n1p2 += 1\n",
    "    elif df2.iloc[i]['Kappa_label'] == 0 and df1.iloc[i]['label'] == 1:\n",
    "        p1n2 += 1\n",
    "    elif df2.iloc[i]['Kappa_label'] == 0 and df1.iloc[i]['label'] == 0:\n",
    "        n1n2 += 1\n",
    "\n",
    "\n",
    "        \n",
    "df2 = pd.read_csv(\"nafiu-Kappa-potential-breaches-manually-labelled.csv\")\n",
    "df1 = pd.read_csv(\"nafiu_df.csv\")\n",
    "\n",
    "for i in range(0, len(df1)):\n",
    "    if df2.iloc[i]['Kappa_label'] == 1 and df1.iloc[i]['label'] == 1:\n",
    "        p1p2 += 1\n",
    "    elif df2.iloc[i]['Kappa_label'] == 1 and df1.iloc[i]['label'] == 0:\n",
    "        n1p2 += 1\n",
    "    elif df2.iloc[i]['Kappa_label'] == 0 and df1.iloc[i]['label'] == 1:\n",
    "        p1n2 += 1\n",
    "    elif df2.iloc[i]['Kappa_label'] == 0 and df1.iloc[i]['label'] == 0:\n",
    "        n1n2 += 1\n",
    "\n",
    "\n",
    "\n",
    "p0 = (p1p2+n1n2)/(p1p2+p1n2+n1p2+n1n2)\n",
    "pe = ((p1p2+p1n2)*(p1p2+n1p2)+(n1p2+n1n2)*(p1n2+n1n2))/(p1p2+p1n2+n1p2+n1n2)**2\n",
    "kappa = (p0-pe)/(1-pe)\n",
    "print(\"Both positive: \", p1p2)\n",
    "print(\"Both negative: \", n1n2)\n",
    "print(\"Positive 1, negative 2: \", p1n2)\n",
    "print(\"Negative 1, positive 2: \", n1p2)\n",
    "print(\"Kappa: \", kappa)"
   ]
  },
  {
   "cell_type": "code",
   "execution_count": 10,
   "metadata": {},
   "outputs": [
    {
     "name": "stdout",
     "output_type": "stream",
     "text": [
      "1\n",
      "2\n",
      "3\n",
      "4\n"
     ]
    }
   ],
   "source": [
    "for i in range(1,5):\n",
    "    print(i)"
   ]
  }
 ],
 "metadata": {
  "kernelspec": {
   "display_name": "Python 3",
   "language": "python",
   "name": "python3"
  },
  "language_info": {
   "codemirror_mode": {
    "name": "ipython",
    "version": 3
   },
   "file_extension": ".py",
   "mimetype": "text/x-python",
   "name": "python",
   "nbconvert_exporter": "python",
   "pygments_lexer": "ipython3",
   "version": "3.9.18"
  }
 },
 "nbformat": 4,
 "nbformat_minor": 2
}
