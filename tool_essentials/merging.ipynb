{
 "cells": [
  {
   "cell_type": "code",
   "execution_count": 2,
   "metadata": {},
   "outputs": [],
   "source": [
    "import os\n",
    "import pandas as pd"
   ]
  },
  {
   "cell_type": "code",
   "execution_count": 2,
   "metadata": {},
   "outputs": [
    {
     "name": "stdout",
     "output_type": "stream",
     "text": [
      "(1, 5)\n",
      "(4, 5)\n",
      "(29, 5)\n",
      "(78, 5)\n",
      "(1, 5)\n",
      "(1, 5)\n",
      "(13, 5)\n",
      "(1, 5)\n",
      "(1, 5)\n",
      "(1, 5)\n",
      "(57, 5)\n",
      "(187, 5)\n"
     ]
    }
   ],
   "source": [
    "\n",
    "# df1 = pd.read_csv(\"../results/flagged_api-guidelines.csv\")\n",
    "# print(df1.shape)\n",
    "# df2 = pd.read_csv(\"../results/flagged_google-api-nodejs-client.csv\")\n",
    "# print(df2.shape)\n",
    "# df3 = pd.read_csv(\"../results/flagged_keycloak.csv\")\n",
    "# print(df3.shape)\n",
    "# df4 = pd.read_csv(\"../results/flagged_kubernetes.csv\")\n",
    "# print(df4.shape)\n",
    "# df5 = pd.read_csv(\"../results/flagged_open-meteo.csv\")\n",
    "# print(df5.shape)\n",
    "# df6 = pd.read_csv(\"../results/flagged_redis.csv\")\n",
    "# print(df6.shape)\n",
    "# df7 = pd.read_csv(\"../results/flagged_supabase.csv\")\n",
    "# print(df7.shape)\n",
    "# df8 = pd.read_csv(\"../results/flagged_umami.csv\")\n",
    "# print(df8.shape)\n",
    "# df9 = pd.read_csv(\"../results/flagged_vercel.csv\")\n",
    "# print(df9.shape)\n",
    "# df10 = pd.read_csv(\"../results/flagged_weather.csv\")\n",
    "# print(df10.shape)\n",
    "# df11 = pd.read_csv(\"../results/flagged_terraform-provider-aws.csv\")\n",
    "# print(df11.shape)\n",
    "# concatanated_df = pd.concat([df1, df2 , df3 , df4 , df5 , df6 , df7 , df8 , df9 , df10 , df11 ], ignore_index=True)\n",
    "# print(concatanated_df.shape)\n",
    "# #print(concatanated_df.head)\n",
    "# concatanated_df.to_csv('../results/flags_concatanated_rmsprop_100.csv', sep=',', index=False)\n"
   ]
  },
  {
   "cell_type": "code",
   "execution_count": 7,
   "metadata": {},
   "outputs": [
    {
     "name": "stdout",
     "output_type": "stream",
     "text": [
      "(312, 5)\n",
      "(187, 5)\n",
      "(499, 5)\n",
      "Index(['Unnamed: 0', 'Issue ID', 'Issue Body', 'Candidate String', 'Repolink'], dtype='object')\n",
      "(402, 5)\n"
     ]
    }
   ],
   "source": [
    "df1 = pd.read_csv(\"../results/flags_concatanated_adamW_200.csv\")\n",
    "df2 = pd.read_csv(\"../results/flags_concatanated_rmsprop_100.csv\")\n",
    "print(df1.shape)\n",
    "print(df2.shape)\n",
    "concatanated_df = pd.concat([df1, df2], ignore_index=True)\n",
    "print(concatanated_df.shape)\n",
    "print(concatanated_df.columns)\n",
    "concatanated_df = concatanated_df.drop_duplicates(subset=[\"Issue ID\",\"Issue Body\",\"Candidate String\"], keep='first')\n",
    "print(concatanated_df.shape)\n",
    "concatanated_df.to_csv('../results/flags_concatanated_merged_models.csv', sep=',', index=False)"
   ]
  }
 ],
 "metadata": {
  "kernelspec": {
   "display_name": "Python 3",
   "language": "python",
   "name": "python3"
  },
  "language_info": {
   "codemirror_mode": {
    "name": "ipython",
    "version": 3
   },
   "file_extension": ".py",
   "mimetype": "text/x-python",
   "name": "python",
   "nbconvert_exporter": "python",
   "pygments_lexer": "ipython3",
   "version": "3.9.18"
  }
 },
 "nbformat": 4,
 "nbformat_minor": 2
}
