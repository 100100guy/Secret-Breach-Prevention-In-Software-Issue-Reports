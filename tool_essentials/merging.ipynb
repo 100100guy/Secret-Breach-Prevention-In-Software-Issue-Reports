{
 "cells": [
  {
   "cell_type": "code",
   "execution_count": 1,
   "metadata": {},
   "outputs": [],
   "source": [
    "import os\n",
    "import pandas as pd"
   ]
  },
  {
   "cell_type": "code",
   "execution_count": 2,
   "metadata": {},
   "outputs": [],
   "source": [
    "\n",
    "# df1 = pd.read_csv(\"../results/flagged_api-guidelines.csv\")\n",
    "# print(df1.shape)\n",
    "# df2 = pd.read_csv(\"../results/flagged_google-api-nodejs-client.csv\")\n",
    "# print(df2.shape)\n",
    "# df3 = pd.read_csv(\"../results/flagged_keycloak.csv\")\n",
    "# print(df3.shape)\n",
    "# df4 = pd.read_csv(\"../results/flagged_kubernetes.csv\")\n",
    "# print(df4.shape)\n",
    "# df5 = pd.read_csv(\"../results/flagged_open-meteo.csv\")\n",
    "# print(df5.shape)\n",
    "# df6 = pd.read_csv(\"../results/flagged_redis.csv\")\n",
    "# print(df6.shape)\n",
    "# df7 = pd.read_csv(\"../results/flagged_supabase.csv\")\n",
    "# print(df7.shape)\n",
    "# df8 = pd.read_csv(\"../results/flagged_umami.csv\")\n",
    "# print(df8.shape)\n",
    "# df9 = pd.read_csv(\"../results/flagged_vercel.csv\")\n",
    "# print(df9.shape)\n",
    "# df10 = pd.read_csv(\"../results/flagged_weather.csv\")\n",
    "# print(df10.shape)\n",
    "# df11 = pd.read_csv(\"../results/flagged_terraform-provider-aws.csv\")\n",
    "# print(df11.shape)\n",
    "# concatanated_df = pd.concat([df1, df2 , df3 , df4 , df5 , df6 , df7 , df8 , df9 , df10 , df11 ], ignore_index=True)\n",
    "# print(concatanated_df.shape)\n",
    "# #print(concatanated_df.head)\n",
    "# concatanated_df.to_csv('../results/flags_concatanated_rmsprop_100.csv', sep=',', index=False)\n"
   ]
  },
  {
   "cell_type": "code",
   "execution_count": 5,
   "metadata": {},
   "outputs": [
    {
     "name": "stdout",
     "output_type": "stream",
     "text": [
      "(312, 6)\n",
      "(187, 6)\n",
      "(499, 6)\n",
      "Index(['Unnamed: 0', 'Issue ID', 'Issue Body', 'Candidate String', 'Repolink',\n",
      "       'model'],\n",
      "      dtype='object')\n",
      "(402, 6)\n"
     ]
    },
    {
     "ename": "",
     "evalue": "",
     "output_type": "error",
     "traceback": [
      "\u001b[1;31mThe Kernel crashed while executing code in the current cell or a previous cell. \n",
      "\u001b[1;31mPlease review the code in the cell(s) to identify a possible cause of the failure. \n",
      "\u001b[1;31mClick <a href='https://aka.ms/vscodeJupyterKernelCrash'>here</a> for more info. \n",
      "\u001b[1;31mView Jupyter <a href='command:jupyter.viewOutput'>log</a> for further details."
     ]
    }
   ],
   "source": [
    "df1 = pd.read_csv(\"../results/flags_concatanated_adamW_200.csv\")\n",
    "df2 = pd.read_csv(\"../results/flags_concatanated_rmsprop_100.csv\")\n",
    "df1['model'] = \"adamW\"\n",
    "df2['model'] = \"rmprop\"\n",
    "print(df1.shape)\n",
    "print(df2.shape)\n",
    "concatanated_df = pd.concat([df1, df2], ignore_index=True)\n",
    "print(concatanated_df.shape)\n",
    "print(concatanated_df.columns)\n",
    "concatanated_df = concatanated_df.drop_duplicates(subset=[\"Issue ID\",\"Issue Body\",\"Candidate String\"], keep='first')\n",
    "print(concatanated_df.shape)\n",
    "#print(concatanated_df.head())\n",
    "concatanated_df.to_csv('../results/flags_concatanated_merged_models.csv', sep=',', index=False)"
   ]
  }
 ],
 "metadata": {
  "kernelspec": {
   "display_name": "Python 3",
   "language": "python",
   "name": "python3"
  },
  "language_info": {
   "codemirror_mode": {
    "name": "ipython",
    "version": 3
   },
   "file_extension": ".py",
   "mimetype": "text/x-python",
   "name": "python",
   "nbconvert_exporter": "python",
   "pygments_lexer": "ipython3",
   "version": "0.0.0"
  }
 },
 "nbformat": 4,
 "nbformat_minor": 2
}
