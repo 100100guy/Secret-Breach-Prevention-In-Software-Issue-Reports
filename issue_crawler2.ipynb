{
 "cells": [
  {
   "cell_type": "code",
   "execution_count": 31,
   "metadata": {},
   "outputs": [],
   "source": [
    "import requests\n",
    "import csv"
   ]
  },
  {
   "cell_type": "code",
   "execution_count": 32,
   "metadata": {},
   "outputs": [],
   "source": [
    "def fetch_closed_issues(repo_link):\n",
    "    # Extracting the owner and repo name from the provided GitHub repository link\n",
    "    owner, repo = repo_link.split('/')[-2:]\n",
    "    api_url = f\"https://api.github.com/repos/{owner}/{repo}/issues\"\n",
    "\n",
    "    # Parameters to fetch closed issues\n",
    "    params = {\n",
    "        \"state\": \"closed\",\n",
    "        \"per_page\": 100  # Fetching 100 items per page, you can adjust this number\n",
    "    }\n",
    "    print(api_url)\n",
    "\n",
    "    issues = []\n",
    "\n",
    "    # Fetching closed issues from the GitHub API using pagination\n",
    "    while True:\n",
    "        response = requests.get(api_url, params=params)\n",
    "        if response.status_code == 200:\n",
    "            issues += response.json()\n",
    "            # Check if there are more pages\n",
    "            if 'next' in response.links:\n",
    "                api_url = response.links['next']['url']\n",
    "            else:\n",
    "                break\n",
    "        else:\n",
    "            print(\"Failed to fetch closed issues:\", response.status_code)\n",
    "            return None\n",
    "\n",
    "    return issues"
   ]
  },
  {
   "cell_type": "code",
   "execution_count": 33,
   "metadata": {},
   "outputs": [],
   "source": [
    "def save_to_csv(issues, csv_filename):\n",
    "    # Extracting relevant information from each issue\n",
    "    data = []\n",
    "    for issue in issues:\n",
    "        # Only include the issue if the body is not empty\n",
    "        if issue[\"body\"] is not None:\n",
    "            data.append({\n",
    "                \"Issue ID\": issue[\"number\"],\n",
    "                \"Title\": issue[\"title\"],\n",
    "                \"Issue Body\": issue[\"body\"],\n",
    "                \"Closed At\": issue[\"closed_at\"]\n",
    "            })\n",
    "\n",
    "    # Writing data to CSV file\n",
    "    with open(csv_filename, mode='w', newline='', encoding='utf-8') as file:\n",
    "        writer = csv.DictWriter(file, fieldnames=[\"Issue ID\", \"Title\", \"Issue Body\", \"Closed At\"])\n",
    "        writer.writeheader()\n",
    "        writer.writerows(data)"
   ]
  },
  {
   "cell_type": "code",
   "execution_count": 34,
   "metadata": {},
   "outputs": [
    {
     "name": "stdout",
     "output_type": "stream",
     "text": [
      "https://api.github.com/repos/umami-software/umami/issues\n",
      "Failed to fetch closed issues: 403\n",
      "No closed issues found or failed to fetch closed issues.\n"
     ]
    }
   ],
   "source": [
    "\n",
    "repo_link = \"https://github.com/umami-software/umami\"\n",
    "issues = fetch_closed_issues(repo_link)\n",
    "\n",
    "if issues:\n",
    "    save_to_csv(issues, \"crawled_issue/data.csv\")\n",
    "    print(\"Closed issues data saved to data.csv\")\n",
    "else:\n",
    "    print(\"No closed issues found or failed to fetch closed issues.\")"
   ]
  }
 ],
 "metadata": {
  "kernelspec": {
   "display_name": "Python 3",
   "language": "python",
   "name": "python3"
  },
  "language_info": {
   "codemirror_mode": {
    "name": "ipython",
    "version": 3
   },
   "file_extension": ".py",
   "mimetype": "text/x-python",
   "name": "python",
   "nbconvert_exporter": "python",
   "pygments_lexer": "ipython3",
   "version": "3.9.18"
  }
 },
 "nbformat": 4,
 "nbformat_minor": 2
}
