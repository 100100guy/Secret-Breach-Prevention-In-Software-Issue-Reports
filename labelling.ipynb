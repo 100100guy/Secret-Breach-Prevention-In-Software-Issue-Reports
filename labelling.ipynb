{
 "cells": [
  {
   "cell_type": "code",
   "execution_count": 1,
   "metadata": {},
   "outputs": [
    {
     "name": "stderr",
     "output_type": "stream",
     "text": [
      "C:\\Users\\ahmed\\AppData\\Local\\Temp\\ipykernel_336\\4059751088.py:5: DtypeWarning: Columns (0,1) have mixed types. Specify dtype option on import or set low_memory=False.\n",
      "  concatenated_df = pd.read_csv(\"nlbse-2023-issue-report.csv\")\n"
     ]
    },
    {
     "name": "stdout",
     "output_type": "stream",
     "text": [
      "(745732, 6)\n",
      "(726503, 6)\n"
     ]
    }
   ],
   "source": [
    "import numpy as np\n",
    "import pandas as pd\n",
    "\n",
    "import re\n",
    "concatenated_df = pd.read_csv(\"nlbse-2023-issue-report.csv\")\n",
    "concatenated_df.shape\n",
    "df = concatenated_df[concatenated_df['labels']=='bug']\n",
    "print(df.shape)\n",
    "df_unique = df.drop_duplicates(subset='id', keep='first')\n",
    "print(df_unique.shape)\n",
    "df = df_unique\n",
    "df[\"id\"] = df[\"id\"].astype(str)"
   ]
  },
  {
   "cell_type": "code",
   "execution_count": 3,
   "metadata": {},
   "outputs": [
    {
     "data": {
      "text/plain": [
       "(10000, 4)"
      ]
     },
     "execution_count": 3,
     "metadata": {},
     "output_type": "execute_result"
    }
   ],
   "source": [
    "import numpy as np\n",
    "sampled_df= pd.read_csv(\"sampled-10000-8jan-SADIF.csv\")\n",
    "columns_to_remove = ['Unnamed: 0']\n",
    "\n",
    "sampled_df.drop(columns=columns_to_remove, inplace=True)\n",
    "sampled_df = sampled_df.drop_duplicates(subset=[\"Issue_id\", \"Candidate_String\"], keep='first')\n",
    "sampled_df['is_secret_human_label'] = 0\n",
    "sampled_df['Actual_Type'] = np.nan\n",
    "sampled_df.head()\n",
    "sampled_df.shape"
   ]
  },
  {
   "cell_type": "code",
   "execution_count": 4,
   "metadata": {},
   "outputs": [
    {
     "name": "stdout",
     "output_type": "stream",
     "text": [
      "0 10\n",
      "0\n",
      "-0011-system--rook-ceph-0000000000000002-a594f383\n",
      "nan\n",
      "-----------------------------------------\n"
     ]
    },
    {
     "name": "stderr",
     "output_type": "stream",
     "text": [
      "C:\\Users\\ahmed\\AppData\\Local\\Temp\\ipykernel_336\\2042416925.py:16: SettingWithCopyWarning: \n",
      "A value is trying to be set on a copy of a slice from a DataFrame\n",
      "\n",
      "See the caveats in the documentation: https://pandas.pydata.org/pandas-docs/stable/user_guide/indexing.html#returning-a-view-versus-a-copy\n",
      "  sampled_df['is_secret_human_label'][iter] = manual_label\n",
      "C:\\Users\\ahmed\\AppData\\Local\\Temp\\ipykernel_336\\2042416925.py:16: FutureWarning: Setting an item of incompatible dtype is deprecated and will raise in a future error of pandas. Value '1' has dtype incompatible with int64, please explicitly cast to a compatible dtype first.\n",
      "  sampled_df['is_secret_human_label'][iter] = manual_label\n",
      "C:\\Users\\ahmed\\AppData\\Local\\Temp\\ipykernel_336\\2042416925.py:21: SettingWithCopyWarning: \n",
      "A value is trying to be set on a copy of a slice from a DataFrame\n",
      "\n",
      "See the caveats in the documentation: https://pandas.pydata.org/pandas-docs/stable/user_guide/indexing.html#returning-a-view-versus-a-copy\n",
      "  sampled_df['Actual_Type'][iter] = actual_type\n",
      "C:\\Users\\ahmed\\AppData\\Local\\Temp\\ipykernel_336\\2042416925.py:21: FutureWarning: Setting an item of incompatible dtype is deprecated and will raise in a future error of pandas. Value 'nan' has dtype incompatible with float64, please explicitly cast to a compatible dtype first.\n",
      "  sampled_df['Actual_Type'][iter] = actual_type\n"
     ]
    },
    {
     "name": "stdout",
     "output_type": "stream",
     "text": [
      "nan\n",
      "1\n",
      "sshAuthorizedKeys\n",
      "nan\n",
      "-----------------------------------------\n",
      "2\n",
      "password\n",
      "nan\n",
      "-----------------------------------------\n",
      "3\n",
      "085f5cd644bf0248e4ec20e7ecd546a6d62d0db988ef7448efcf4ff19948d9a4\n",
      "nan\n",
      "-----------------------------------------\n",
      "4\n",
      "].challengeResult\n",
      "nan\n",
      "-----------------------------------------\n",
      "5\n",
      "interpretation=default\n",
      "nan\n",
      "-----------------------------------------\n"
     ]
    },
    {
     "ename": "KeyboardInterrupt",
     "evalue": "Interrupted by user",
     "output_type": "error",
     "traceback": [
      "\u001b[1;31m---------------------------------------------------------------------------\u001b[0m",
      "\u001b[1;31mKeyboardInterrupt\u001b[0m                         Traceback (most recent call last)",
      "Cell \u001b[1;32mIn[4], line 15\u001b[0m\n\u001b[0;32m     12\u001b[0m \u001b[38;5;28mprint\u001b[39m(\u001b[38;5;124m\"\u001b[39m\u001b[38;5;124m-----------------------------------------\u001b[39m\u001b[38;5;124m\"\u001b[39m)\n\u001b[0;32m     14\u001b[0m df[df[\u001b[38;5;124m\"\u001b[39m\u001b[38;5;124mid\u001b[39m\u001b[38;5;124m\"\u001b[39m]\u001b[38;5;241m==\u001b[39msampled_df_id][\u001b[38;5;124m\"\u001b[39m\u001b[38;5;124mbody\u001b[39m\u001b[38;5;124m\"\u001b[39m]\u001b[38;5;241m.\u001b[39mto_csv(\u001b[38;5;124m\"\u001b[39m\u001b[38;5;124mdemo.csv\u001b[39m\u001b[38;5;124m\"\u001b[39m)\n\u001b[1;32m---> 15\u001b[0m manual_label \u001b[38;5;241m=\u001b[39m \u001b[38;5;28;43minput\u001b[39;49m\u001b[43m(\u001b[49m\u001b[38;5;28;43mstr\u001b[39;49m\u001b[43m(\u001b[49m\u001b[38;5;28;43miter\u001b[39;49m\u001b[43m)\u001b[49m\u001b[38;5;241;43m+\u001b[39;49m\u001b[38;5;124;43m\"\u001b[39;49m\u001b[38;5;124;43m.Label for \u001b[39;49m\u001b[38;5;124;43m\"\u001b[39;49m\u001b[38;5;241;43m+\u001b[39;49m\u001b[43msampled_df\u001b[49m\u001b[43m[\u001b[49m\u001b[38;5;124;43m\"\u001b[39;49m\u001b[38;5;124;43mCandidate_String\u001b[39;49m\u001b[38;5;124;43m\"\u001b[39;49m\u001b[43m]\u001b[49m\u001b[43m[\u001b[49m\u001b[38;5;28;43miter\u001b[39;49m\u001b[43m]\u001b[49m\u001b[43m)\u001b[49m\n\u001b[0;32m     16\u001b[0m sampled_df[\u001b[38;5;124m'\u001b[39m\u001b[38;5;124mis_secret_human_label\u001b[39m\u001b[38;5;124m'\u001b[39m][\u001b[38;5;28miter\u001b[39m] \u001b[38;5;241m=\u001b[39m manual_label\n\u001b[0;32m     17\u001b[0m \u001b[38;5;28;01mif\u001b[39;00m manual_label \u001b[38;5;241m==\u001b[39m \u001b[38;5;241m1\u001b[39m \u001b[38;5;129;01mor\u001b[39;00m manual_label\u001b[38;5;241m==\u001b[39m\u001b[38;5;124m\"\u001b[39m\u001b[38;5;124m1\u001b[39m\u001b[38;5;124m\"\u001b[39m:\n",
      "File \u001b[1;32mc:\\Users\\ahmed\\miniconda3\\envs\\tf\\lib\\site-packages\\ipykernel\\kernelbase.py:1262\u001b[0m, in \u001b[0;36mKernel.raw_input\u001b[1;34m(self, prompt)\u001b[0m\n\u001b[0;32m   1260\u001b[0m     msg \u001b[38;5;241m=\u001b[39m \u001b[38;5;124m\"\u001b[39m\u001b[38;5;124mraw_input was called, but this frontend does not support input requests.\u001b[39m\u001b[38;5;124m\"\u001b[39m\n\u001b[0;32m   1261\u001b[0m     \u001b[38;5;28;01mraise\u001b[39;00m StdinNotImplementedError(msg)\n\u001b[1;32m-> 1262\u001b[0m \u001b[38;5;28;01mreturn\u001b[39;00m \u001b[38;5;28;43mself\u001b[39;49m\u001b[38;5;241;43m.\u001b[39;49m\u001b[43m_input_request\u001b[49m\u001b[43m(\u001b[49m\n\u001b[0;32m   1263\u001b[0m \u001b[43m    \u001b[49m\u001b[38;5;28;43mstr\u001b[39;49m\u001b[43m(\u001b[49m\u001b[43mprompt\u001b[49m\u001b[43m)\u001b[49m\u001b[43m,\u001b[49m\n\u001b[0;32m   1264\u001b[0m \u001b[43m    \u001b[49m\u001b[38;5;28;43mself\u001b[39;49m\u001b[38;5;241;43m.\u001b[39;49m\u001b[43m_parent_ident\u001b[49m\u001b[43m[\u001b[49m\u001b[38;5;124;43m\"\u001b[39;49m\u001b[38;5;124;43mshell\u001b[39;49m\u001b[38;5;124;43m\"\u001b[39;49m\u001b[43m]\u001b[49m\u001b[43m,\u001b[49m\n\u001b[0;32m   1265\u001b[0m \u001b[43m    \u001b[49m\u001b[38;5;28;43mself\u001b[39;49m\u001b[38;5;241;43m.\u001b[39;49m\u001b[43mget_parent\u001b[49m\u001b[43m(\u001b[49m\u001b[38;5;124;43m\"\u001b[39;49m\u001b[38;5;124;43mshell\u001b[39;49m\u001b[38;5;124;43m\"\u001b[39;49m\u001b[43m)\u001b[49m\u001b[43m,\u001b[49m\n\u001b[0;32m   1266\u001b[0m \u001b[43m    \u001b[49m\u001b[43mpassword\u001b[49m\u001b[38;5;241;43m=\u001b[39;49m\u001b[38;5;28;43;01mFalse\u001b[39;49;00m\u001b[43m,\u001b[49m\n\u001b[0;32m   1267\u001b[0m \u001b[43m\u001b[49m\u001b[43m)\u001b[49m\n",
      "File \u001b[1;32mc:\\Users\\ahmed\\miniconda3\\envs\\tf\\lib\\site-packages\\ipykernel\\kernelbase.py:1305\u001b[0m, in \u001b[0;36mKernel._input_request\u001b[1;34m(self, prompt, ident, parent, password)\u001b[0m\n\u001b[0;32m   1302\u001b[0m \u001b[38;5;28;01mexcept\u001b[39;00m \u001b[38;5;167;01mKeyboardInterrupt\u001b[39;00m:\n\u001b[0;32m   1303\u001b[0m     \u001b[38;5;66;03m# re-raise KeyboardInterrupt, to truncate traceback\u001b[39;00m\n\u001b[0;32m   1304\u001b[0m     msg \u001b[38;5;241m=\u001b[39m \u001b[38;5;124m\"\u001b[39m\u001b[38;5;124mInterrupted by user\u001b[39m\u001b[38;5;124m\"\u001b[39m\n\u001b[1;32m-> 1305\u001b[0m     \u001b[38;5;28;01mraise\u001b[39;00m \u001b[38;5;167;01mKeyboardInterrupt\u001b[39;00m(msg) \u001b[38;5;28;01mfrom\u001b[39;00m \u001b[38;5;28;01mNone\u001b[39;00m\n\u001b[0;32m   1306\u001b[0m \u001b[38;5;28;01mexcept\u001b[39;00m \u001b[38;5;167;01mException\u001b[39;00m:\n\u001b[0;32m   1307\u001b[0m     \u001b[38;5;28mself\u001b[39m\u001b[38;5;241m.\u001b[39mlog\u001b[38;5;241m.\u001b[39mwarning(\u001b[38;5;124m\"\u001b[39m\u001b[38;5;124mInvalid Message:\u001b[39m\u001b[38;5;124m\"\u001b[39m, exc_info\u001b[38;5;241m=\u001b[39m\u001b[38;5;28;01mTrue\u001b[39;00m)\n",
      "\u001b[1;31mKeyboardInterrupt\u001b[0m: Interrupted by user"
     ]
    }
   ],
   "source": [
    "## 100 potential breaches are labelled in one iteration\n",
    "idx = 0\n",
    "start = idx*10\n",
    "end = (idx+1)*10\n",
    "print(start,end)\n",
    "  \n",
    "for iter in sampled_df.index[start:end]:\n",
    "    print(iter)\n",
    "    sampled_df_id = str(sampled_df[\"Issue_id\"][iter])\n",
    "    print(sampled_df[\"Candidate_String\"][iter])\n",
    "    print(sampled_df[\"Actual_Type\"][iter])\n",
    "    print(\"-----------------------------------------\")\n",
    "    \n",
    "    df[df[\"id\"]==sampled_df_id][\"body\"].to_csv(\"demo.csv\")\n",
    "    manual_label = input(str(iter)+\".Label for \"+sampled_df[\"Candidate_String\"][iter])\n",
    "    sampled_df['is_secret_human_label'][iter] = manual_label\n",
    "    if manual_label == 1 or manual_label==\"1\":\n",
    "        actual_type = str(input(\"Type for \"+str(iter)+\".\"+sampled_df[\"Candidate_String\"][iter]))\n",
    "        print(actual_type)\n",
    "        \n",
    "        sampled_df['Actual_Type'][iter] = actual_type\n",
    "date = \"12jan\"\n",
    "your_name=\"sdf\"\n",
    "\n",
    "sampled_df.iloc[start:end].to_csv('manual labelled secrets - '+date+'/sampled-issue-report-'+your_name+'-labelled-'+str(idx+1)+'.csv')\n",
    "\n"
   ]
  },
  {
   "cell_type": "code",
   "execution_count": null,
   "metadata": {},
   "outputs": [],
   "source": [
    "concatenated_df = pd.DataFrame()\n",
    "\n",
    "# Loop through the ranges and concatenate the DataFrames\n",
    "for var in range(1, 11):\n",
    "    temp = pd.read_csv('manual labelled secrets - '+date+'/sampled-issue-report-'+your_name+'-labelled-'+str(var)+'.csv')\n",
    "    concatenated_df = pd.concat([concatenated_df, temp], ignore_index=True)\n",
    "columns_to_remove = ['Unnamed: 0']\n",
    "concatenated_df.drop(columns=columns_to_remove, inplace=True)\n",
    "concatenated_df['is_secret_human_label'].fillna(0, inplace=True)\n",
    "concatenated_df[\"is_secret_human_label\"] = concatenated_df[\"is_secret_human_label\"].astype(int)\n",
    "# concatenated_df = concatenated_df[concatenated_df['is_secret_human_label'] == 1]\n",
    "print(concatenated_df.shape)\n",
    "\n",
    "concatenated_df.to_csv(date+'-1000-potential-breaches-manually-labelled.csv')"
   ]
  }
 ],
 "metadata": {
  "kernelspec": {
   "display_name": "Python 3.10.5 64-bit",
   "language": "python",
   "name": "python3"
  },
  "language_info": {
   "codemirror_mode": {
    "name": "ipython",
    "version": 3
   },
   "file_extension": ".py",
   "mimetype": "text/x-python",
   "name": "python",
   "nbconvert_exporter": "python",
   "pygments_lexer": "ipython3",
   "version": "3.9.18"
  },
  "orig_nbformat": 4,
  "vscode": {
   "interpreter": {
    "hash": "aee8b7b246df8f9039afb4144a1f6fd8d2ca17a180786b69acc140d282b71a49"
   }
  }
 },
 "nbformat": 4,
 "nbformat_minor": 2
}
